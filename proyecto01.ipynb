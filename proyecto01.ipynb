{
 "cells": [
  {
   "cell_type": "markdown",
   "id": "9f3b27fa",
   "metadata": {},
   "source": [
    "# Proyecto 01"
   ]
  },
  {
   "cell_type": "code",
   "execution_count": 29,
   "id": "eb897a74",
   "metadata": {},
   "outputs": [
    {
     "name": "stdout",
     "output_type": "stream",
     "text": [
      "hola mundo\n"
     ]
    }
   ],
   "source": [
    "print(\"hola mundo\")"
   ]
  },
  {
   "cell_type": "code",
   "execution_count": 30,
   "id": "09746a56",
   "metadata": {},
   "outputs": [
    {
     "name": "stdout",
     "output_type": "stream",
     "text": [
      "Hola Celeste ¿Cómo estás?\n"
     ]
    }
   ],
   "source": [
    "nombre = input(\"Digita tu nombre: \")\n",
    "print(\"Hola \" + nombre + \" ¿Cómo estás?\")"
   ]
  },
  {
   "cell_type": "markdown",
   "id": "4f8ccb95",
   "metadata": {},
   "source": [
    "## Generando un archivo PDF del presupuesto"
   ]
  },
  {
   "cell_type": "code",
   "execution_count": 31,
   "id": "6de97853",
   "metadata": {},
   "outputs": [
    {
     "name": "stdout",
     "output_type": "stream",
     "text": [
      "Requirement already satisfied: fpdf in c:\\users\\juan.beltran\\appdata\\local\\programs\\python\\python313\\lib\\site-packages (1.7.2)\n"
     ]
    },
    {
     "name": "stderr",
     "output_type": "stream",
     "text": [
      "\n",
      "[notice] A new release of pip is available: 25.0.1 -> 25.1.1\n",
      "[notice] To update, run: python.exe -m pip install --upgrade pip\n"
     ]
    }
   ],
   "source": [
    "! pip install fpdf"
   ]
  },
  {
   "cell_type": "code",
   "execution_count": 32,
   "id": "77cbc4fd",
   "metadata": {},
   "outputs": [],
   "source": [
    "from fpdf import FPDF"
   ]
  },
  {
   "cell_type": "code",
   "execution_count": 39,
   "id": "cd6321eb",
   "metadata": {},
   "outputs": [],
   "source": [
    "proyecto = \"Mi primer proyecto en Python con presupuetos\""
   ]
  },
  {
   "cell_type": "code",
   "execution_count": 52,
   "id": "99c8a113",
   "metadata": {},
   "outputs": [],
   "source": [
    "valor_hora = 59\n",
    "horas_estimadas = 28\n",
    "tiempo_estimado = 28 * 8\n"
   ]
  },
  {
   "cell_type": "code",
   "execution_count": 53,
   "id": "275bddc3",
   "metadata": {},
   "outputs": [],
   "source": [
    "valor_total = valor_hora * horas_estimadas"
   ]
  },
  {
   "cell_type": "code",
   "execution_count": 54,
   "id": "efd10477",
   "metadata": {},
   "outputs": [
    {
     "name": "stdout",
     "output_type": "stream",
     "text": [
      "El presupuesto se ha creado con éxito\n"
     ]
    }
   ],
   "source": [
    "pdf = FPDF()\n",
    "pdf.add_page()\n",
    "pdf.set_font(\"Arial\", size=10)\n",
    "\n",
    "pdf.image(\"Template.png\",0,0)\n",
    "pdf.text(115, 145, proyecto)\n",
    "pdf.text(115, 160, str(horas_estimadas))\n",
    "pdf.text(115, 175, \"${:,.2f}\".format(valor_hora))\n",
    "pdf.text(115, 190, str(tiempo_estimado))\n",
    "pdf.text(115, 205, \"${:,.2f}\".format(valor_total))\n",
    "\n",
    "pdf.output(\"Presupuesto.pdf\")\n",
    "print(\"El presupuesto se ha creado con éxito\")"
   ]
  },
  {
   "cell_type": "code",
   "execution_count": null,
   "id": "33125475",
   "metadata": {},
   "outputs": [],
   "source": []
  }
 ],
 "metadata": {
  "kernelspec": {
   "display_name": "Python 3",
   "language": "python",
   "name": "python3"
  },
  "language_info": {
   "codemirror_mode": {
    "name": "ipython",
    "version": 3
   },
   "file_extension": ".py",
   "mimetype": "text/x-python",
   "name": "python",
   "nbconvert_exporter": "python",
   "pygments_lexer": "ipython3",
   "version": "3.13.3"
  }
 },
 "nbformat": 4,
 "nbformat_minor": 5
}
